{
  "nbformat": 4,
  "nbformat_minor": 0,
  "metadata": {
    "colab": {
      "provenance": []
    },
    "kernelspec": {
      "name": "python3",
      "display_name": "Python 3"
    },
    "language_info": {
      "name": "python"
    }
  },
  "cells": [
    {
      "cell_type": "markdown",
      "source": [
        "# Question 1 : What is Simple Linear Regression (SLR)? Explain its purpose.\n",
        "# ANSWER\n",
        "Simple Linear Regression (SLR) is a statistical technique that models the relationship between two variables — one independent variable (X) and one dependent variable (Y) — by fitting a straight line to the observed data.\n",
        "\n",
        "Its purpose is to predict the value of Y based on X and to understand how X influences Y.\n",
        "\n",
        "# For example:\n",
        " predicting a student’s exam score (Y) based on hours studied (X)."
      ],
      "metadata": {
        "id": "54jPe5PxsAdU"
      }
    },
    {
      "cell_type": "markdown",
      "source": [
        "# Question 2: What are the key assumptions of Simple Linear Regression?\n",
        "# ANSWER\n",
        "The main assumptions of SLR are:\n",
        "**Linearity –** The relationship between X and Y is linear.\n",
        "**Independence – **The observations are independent of each other.\n",
        "**Homoscedasticity **– The variance of residuals (errors) is constant         across all levels of X.\n",
        "**Normality of errors** – The residuals follow a normal distribution.\n",
        "**No multicollinearity** – Not applicable for simple regression (only one X)."
      ],
      "metadata": {
        "id": "00BDp_TSsSeP"
      }
    },
    {
      "cell_type": "markdown",
      "source": [
        "# Question 3: Write the mathematical equation for a simple linear regression model and explain each term.\n",
        "# ANSWER\n",
        "The equation is:\n",
        "                  **  Y=β0​+β1​X+ε**\n",
        "\n",
        "Where:\n",
        "Y: Dependent variable (output)\n",
        "\n",
        "X: Independent variable (input)\n",
        "\n",
        "β0 : Intercept (value of Y when X = 0)\n",
        "\n",
        "β1: Slope (change in Y for one-unit change in X)\n",
        "\n",
        "ε: Error term (difference between predicted and actual value)"
      ],
      "metadata": {
        "id": "LoR02joEs1YU"
      }
    },
    {
      "cell_type": "markdown",
      "source": [
        "# Question 4: Provide a real-world example where simple linear regression can be applied.  \n",
        "# ANSWER\n",
        "A company wants to predict monthly sales (Y) based on advertising expenditure (X).\n",
        "By using SLR, the company can estimate how much sales will increase for each additional ₹1,000 spent on advertising.\n"
      ],
      "metadata": {
        "id": "bBnZXKP3uxTn"
      }
    },
    {
      "cell_type": "markdown",
      "source": [
        "# Question 5: What is the method of least squares in linear regression?\n",
        "# ANSWER\n",
        "The method of least squares finds the best-fitting line by minimizing the sum of the squared differences between the observed values and the predicted values.\n",
        "Mathematically, it minimizes: ∑(Yi​−Yi​^​)2\n",
        "This ensures the line is as close as possible to all data points."
      ],
      "metadata": {
        "id": "QyOxWN-NvB4a"
      }
    },
    {
      "cell_type": "markdown",
      "source": [
        "# Question 6: What is Logistic Regression? How does it differ from Linear Regression?\n",
        "# ANSWER   \n",
        "Logistic Regression is a statistical model used for classification problems, where the output variable is categorical (e.g., Yes/No, 0/1).\n",
        "It predicts the probability that an instance belongs to a particular class using the sigmoid (logistic) function.\n",
        "\n",
        "Differences:\n",
        "#    \tLinear Regression   \n",
        ". Continuous value\n",
        ". Regression problems\n",
        ". Linear function\n",
        ". Y=β0​+β1​X\n",
        " #        Logistic Regression\n",
        " . Probability (0 to 1)\n",
        " . Classification problems\n",
        " . Sigmoid (logistic) function\n",
        " . P(Y=1)=1+e−(β0​+β1​X)1​"
      ],
      "metadata": {
        "id": "-HZHfbJQI97v"
      }
    },
    {
      "cell_type": "markdown",
      "source": [
        "# Question 7: Name and briefly describe three common evaluation metrics for regression models.\n",
        "# ANSWER\n",
        "*Mean Absolute Error (MAE):* Average of absolute differences between actual and predicted values.\n",
        "*Mean Squared Error (MSE):*Average of squared differences between actual and predicted values.\n",
        "*R-squared (R²):* Measures how well the model explains the variation in the data (ranges from 0 to 1).\n"
      ],
      "metadata": {
        "id": "0iTnFX1eNDuj"
      }
    },
    {
      "cell_type": "markdown",
      "source": [
        "# Question 8: What is the purpose of the R-squared metric in regression analysis?\n",
        "# ANSWER\n",
        "indicates the proportion of variance in the dependent variable that can be explained by the independent variable.\n",
        "  R2=1: Perfect fit\n",
        "  R2=0: No relationship\n",
        "  It helps evaluate how well the regression line fits the data."
      ],
      "metadata": {
        "id": "QuReA8EgOC-v"
      }
    },
    {
      "cell_type": "markdown",
      "source": [
        "# Question 9: Write Python code to fit a simple linear regression model using scikit-learn and print the slope and intercept.\n"
      ],
      "metadata": {
        "id": "a7eUfV31OpCK"
      }
    },
    {
      "cell_type": "code",
      "source": [
        "# Import required libraries\n",
        "from sklearn.linear_model import LinearRegression\n",
        "import numpy as np\n",
        "\n",
        "# Example data\n",
        "X = np.array([1, 2, 3, 4, 5]).reshape(-1, 1)  # Independent variable\n",
        "y = np.array([2, 4, 5, 4, 5])                 # Dependent variable\n",
        "\n",
        "# Create and train the model\n",
        "model = LinearRegression()\n",
        "model.fit(X, y)\n",
        "\n",
        "# Print slope (β1) and intercept (β0)\n",
        "print(\"Slope (β1):\", model.coef_[0])\n",
        "print(\"Intercept (β0):\", model.intercept_)\n",
        "\n",
        "# Example Output:\n",
        "# Slope (β1): 0.6\n",
        "# Intercept (β0): 2.2\n"
      ],
      "metadata": {
        "colab": {
          "base_uri": "https://localhost:8080/"
        },
        "id": "7JIEV0B0Ot6y",
        "outputId": "20c79909-c160-4b86-b797-50d0b8d71113"
      },
      "execution_count": 1,
      "outputs": [
        {
          "output_type": "stream",
          "name": "stdout",
          "text": [
            "Slope (β1): 0.6\n",
            "Intercept (β0): 2.2\n"
          ]
        }
      ]
    },
    {
      "cell_type": "markdown",
      "source": [
        "# Question 10: How do you interpret the coefficients in a simple linear regression model?\n",
        "# ANSWER\n",
        "Intercept (β₀): The predicted value of Y when X = 0.\n",
        "\n",
        "Slope (β₁): The amount by which Y changes for every one-unit increase in X.\n",
        "\n",
        "If β₁ > 0 → positive relationship (Y increases as X increases).\n",
        "\n",
        "If β₁ < 0 → negative relationship (Y decreases as X increases)."
      ],
      "metadata": {
        "id": "X6FMjujYOzZo"
      }
    }
  ]
}